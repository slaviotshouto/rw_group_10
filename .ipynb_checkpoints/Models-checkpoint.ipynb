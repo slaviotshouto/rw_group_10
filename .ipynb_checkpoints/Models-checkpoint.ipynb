{
 "cells": [
  {
   "cell_type": "code",
   "metadata": {
    "cell_id": "2cfe2528ada647e49e1c4ea0820a78bd",
    "tags": [],
    "deepnote_to_be_reexecuted": false,
    "source_hash": "b623e53d",
    "execution_start": 1652109544773,
    "execution_millis": 40,
    "deepnote_cell_type": "code",
    "deepnote_cell_height": 81
   },
   "source": "",
   "execution_count": 0,
   "outputs": []
  },
  {
   "cell_type": "code",
   "metadata": {
    "tags": [],
    "cell_id": "1978c983-e586-4b6e-bf0f-24be97644c3e",
    "deepnote_to_be_reexecuted": false,
    "source_hash": "a4965972",
    "execution_start": 1652109544814,
    "execution_millis": 2078,
    "deepnote_cell_type": "code",
    "deepnote_cell_height": 243
   },
   "source": "import pandas as pd\nimport matplotlib.pyplot as plt\nimport pandas as pd\nimport numpy as np\nfrom sklearn.model_selection import train_test_split\nfrom sklearn.neighbors import KNeighborsClassifier\nfrom sklearn.model_selection import cross_val_score\nimport mglearn\nfrom sklearn.preprocessing import StandardScaler\n",
   "outputs": [],
   "execution_count": null
  },
  {
   "cell_type": "code",
   "metadata": {
    "cell_id": "86f7f59ef20d4df1a94a42c097f4cea8",
    "tags": [],
    "deepnote_to_be_reexecuted": false,
    "source_hash": "f97ef86e",
    "execution_start": 1652109546893,
    "execution_millis": 130,
    "deepnote_cell_type": "code",
    "deepnote_cell_height": 635
   },
   "source": "RNA_set = pd.read_csv('GSE159851_Schaffenrath_RNAseq_GBM_BM_control.csv')\nRNA_set",
   "outputs": [
    {
     "output_type": "execute_result",
     "execution_count": 2,
     "data": {
      "application/vnd.deepnote.dataframe.v3+json": {
       "column_count": 18,
       "row_count": 21908,
       "columns": [
        {
         "name": "gene_ID",
         "dtype": "object",
         "stats": {
          "unique_count": 21908,
          "nan_count": 0,
          "categories": [
           {
            "name": "ENSG00000186092",
            "count": 1
           },
           {
            "name": "ENSG00000278566",
            "count": 1
           },
           {
            "name": "21906 others",
            "count": 21906
           }
          ]
         }
        },
        {
         "name": "control_12",
         "dtype": "int64",
         "stats": {
          "unique_count": 2139,
          "nan_count": 0,
          "min": "0",
          "max": "105082",
          "histogram": [
           {
            "bin_start": 0,
            "bin_end": 10508.2,
            "count": 21858
           },
           {
            "bin_start": 10508.2,
            "bin_end": 21016.4,
            "count": 34
           },
           {
            "bin_start": 21016.4,
            "bin_end": 31524.600000000002,
            "count": 7
           },
           {
            "bin_start": 31524.600000000002,
            "bin_end": 42032.8,
            "count": 3
           },
           {
            "bin_start": 42032.8,
            "bin_end": 52541,
            "count": 2
           },
           {
            "bin_start": 52541,
            "bin_end": 63049.200000000004,
            "count": 1
           },
           {
            "bin_start": 63049.200000000004,
            "bin_end": 73557.40000000001,
            "count": 1
           },
           {
            "bin_start": 73557.40000000001,
            "bin_end": 84065.6,
            "count": 0
           },
           {
            "bin_start": 84065.6,
            "bin_end": 94573.8,
            "count": 1
           },
           {
            "bin_start": 94573.8,
            "bin_end": 105082,
            "count": 1
           }
          ]
         }
        },
        {
         "name": "control_26",
         "dtype": "int64",
         "stats": {
          "unique_count": 2952,
          "nan_count": 0,
          "min": "0",
          "max": "100471",
          "histogram": [
           {
            "bin_start": 0,
            "bin_end": 10047.1,
            "count": 21779
           },
           {
            "bin_start": 10047.1,
            "bin_end": 20094.2,
            "count": 83
           },
           {
            "bin_start": 20094.2,
            "bin_end": 30141.300000000003,
            "count": 20
           },
           {
            "bin_start": 30141.300000000003,
            "bin_end": 40188.4,
            "count": 12
           },
           {
            "bin_start": 40188.4,
            "bin_end": 50235.5,
            "count": 1
           },
           {
            "bin_start": 50235.5,
            "bin_end": 60282.600000000006,
            "count": 5
           },
           {
            "bin_start": 60282.600000000006,
            "bin_end": 70329.7,
            "count": 2
           },
           {
            "bin_start": 70329.7,
            "bin_end": 80376.8,
            "count": 1
           },
           {
            "bin_start": 80376.8,
            "bin_end": 90423.90000000001,
            "count": 2
           },
           {
            "bin_start": 90423.90000000001,
            "bin_end": 100471,
            "count": 3
           }
          ]
         }
        },
        {
         "name": "control_11",
         "dtype": "int64",
         "stats": {
          "unique_count": 3771,
          "nan_count": 0,
          "min": "0",
          "max": "178067",
          "histogram": [
           {
            "bin_start": 0,
            "bin_end": 17806.7,
            "count": 21797
           },
           {
            "bin_start": 17806.7,
            "bin_end": 35613.4,
            "count": 73
           },
           {
            "bin_start": 35613.4,
            "bin_end": 53420.100000000006,
            "count": 17
           },
           {
            "bin_start": 53420.100000000006,
            "bin_end": 71226.8,
            "count": 13
           },
           {
            "bin_start": 71226.8,
            "bin_end": 89033.5,
            "count": 4
           },
           {
            "bin_start": 89033.5,
            "bin_end": 106840.20000000001,
            "count": 1
           },
           {
            "bin_start": 106840.20000000001,
            "bin_end": 124646.90000000001,
            "count": 1
           },
           {
            "bin_start": 124646.90000000001,
            "bin_end": 142453.6,
            "count": 1
           },
           {
            "bin_start": 142453.6,
            "bin_end": 160260.30000000002,
            "count": 0
           },
           {
            "bin_start": 160260.30000000002,
            "bin_end": 178067,
            "count": 1
           }
          ]
         }
        },
        {
         "name": "control_14",
         "dtype": "int64"
        },
        {
         "name": "control_6",
         "dtype": "int64"
        },
        {
         "name": "GBM_27",
         "dtype": "int64"
        },
        {
         "name": "GBM_29",
         "dtype": "int64"
        },
        {
         "name": "GBM_3",
         "dtype": "int64"
        },
        {
         "name": "GBM_8",
         "dtype": "int64"
        },
        {
         "name": "GBM_9",
         "dtype": "int64"
        },
        {
         "name": "metastasis_21",
         "dtype": "int64"
        },
        {
         "name": "metastasis_22",
         "dtype": "int64"
        },
        {
         "name": "metastasis_23",
         "dtype": "int64"
        },
        {
         "name": "metastasis_28",
         "dtype": "int64"
        },
        {
         "name": "metastasis_30",
         "dtype": "int64"
        },
        {
         "name": "control_15",
         "dtype": "int64"
        },
        {
         "name": "metastasis_16",
         "dtype": "int64"
        },
        {
         "name": "_deepnote_index_column",
         "dtype": "int64"
        }
       ],
       "rows": [
        {
         "gene_ID": "ENSG00000186092",
         "control_12": 0,
         "control_26": 0,
         "control_11": 0,
         "control_14": 0,
         "control_6": 0,
         "GBM_27": 0,
         "GBM_29": 0,
         "GBM_3": 0,
         "GBM_8": 0,
         "GBM_9": 0,
         "metastasis_21": 0,
         "metastasis_22": 0,
         "metastasis_23": 0,
         "metastasis_28": 0,
         "metastasis_30": 0,
         "control_15": 0,
         "metastasis_16": 0,
         "_deepnote_index_column": 0
        },
        {
         "gene_ID": "ENSG00000278566",
         "control_12": 0,
         "control_26": 0,
         "control_11": 0,
         "control_14": 0,
         "control_6": 0,
         "GBM_27": 0,
         "GBM_29": 0,
         "GBM_3": 0,
         "GBM_8": 0,
         "GBM_9": 0,
         "metastasis_21": 0,
         "metastasis_22": 0,
         "metastasis_23": 0,
         "metastasis_28": 0,
         "metastasis_30": 0,
         "control_15": 0,
         "metastasis_16": 0,
         "_deepnote_index_column": 1
        },
        {
         "gene_ID": "ENSG00000273547",
         "control_12": 0,
         "control_26": 0,
         "control_11": 0,
         "control_14": 0,
         "control_6": 0,
         "GBM_27": 0,
         "GBM_29": 0,
         "GBM_3": 0,
         "GBM_8": 0,
         "GBM_9": 0,
         "metastasis_21": 0,
         "metastasis_22": 0,
         "metastasis_23": 0,
         "metastasis_28": 0,
         "metastasis_30": 0,
         "control_15": 0,
         "metastasis_16": 0,
         "_deepnote_index_column": 2
        },
        {
         "gene_ID": "ENSG00000187634",
         "control_12": 4,
         "control_26": 2,
         "control_11": 49,
         "control_14": 19,
         "control_6": 2,
         "GBM_27": 6,
         "GBM_29": 0,
         "GBM_3": 13,
         "GBM_8": 2,
         "GBM_9": 18,
         "metastasis_21": 0,
         "metastasis_22": 0,
         "metastasis_23": 0,
         "metastasis_28": 4,
         "metastasis_30": 26,
         "control_15": 189,
         "metastasis_16": 0,
         "_deepnote_index_column": 3
        },
        {
         "gene_ID": "ENSG00000188976",
         "control_12": 584,
         "control_26": 396,
         "control_11": 829,
         "control_14": 1089,
         "control_6": 610,
         "GBM_27": 730,
         "GBM_29": 128,
         "GBM_3": 1315,
         "GBM_8": 1178,
         "GBM_9": 1150,
         "metastasis_21": 2,
         "metastasis_22": 66,
         "metastasis_23": 47,
         "metastasis_28": 450,
         "metastasis_30": 507,
         "control_15": 1243,
         "metastasis_16": 1037,
         "_deepnote_index_column": 4
        },
        {
         "gene_ID": "ENSG00000187961",
         "control_12": 35,
         "control_26": 12,
         "control_11": 35,
         "control_14": 49,
         "control_6": 10,
         "GBM_27": 94,
         "GBM_29": 8,
         "GBM_3": 122,
         "GBM_8": 48,
         "GBM_9": 40,
         "metastasis_21": 0,
         "metastasis_22": 26,
         "metastasis_23": 3,
         "metastasis_28": 80,
         "metastasis_30": 84,
         "control_15": 87,
         "metastasis_16": 25,
         "_deepnote_index_column": 5
        },
        {
         "gene_ID": "ENSG00000187583",
         "control_12": 1,
         "control_26": 0,
         "control_11": 0,
         "control_14": 2,
         "control_6": 0,
         "GBM_27": 1,
         "GBM_29": 3,
         "GBM_3": 1,
         "GBM_8": 6,
         "GBM_9": 1,
         "metastasis_21": 1,
         "metastasis_22": 9,
         "metastasis_23": 27,
         "metastasis_28": 22,
         "metastasis_30": 26,
         "control_15": 18,
         "metastasis_16": 9,
         "_deepnote_index_column": 6
        },
        {
         "gene_ID": "ENSG00000187642",
         "control_12": 0,
         "control_26": 0,
         "control_11": 0,
         "control_14": 1,
         "control_6": 4,
         "GBM_27": 12,
         "GBM_29": 1,
         "GBM_3": 2,
         "GBM_8": 4,
         "GBM_9": 0,
         "metastasis_21": 2,
         "metastasis_22": 0,
         "metastasis_23": 2,
         "metastasis_28": 7,
         "metastasis_30": 10,
         "control_15": 0,
         "metastasis_16": 1,
         "_deepnote_index_column": 7
        },
        {
         "gene_ID": "ENSG00000188290",
         "control_12": 128,
         "control_26": 495,
         "control_11": 772,
         "control_14": 273,
         "control_6": 416,
         "GBM_27": 864,
         "GBM_29": 145,
         "GBM_3": 1011,
         "GBM_8": 211,
         "GBM_9": 448,
         "metastasis_21": 11,
         "metastasis_22": 123,
         "metastasis_23": 112,
         "metastasis_28": 532,
         "metastasis_30": 632,
         "control_15": 320,
         "metastasis_16": 791,
         "_deepnote_index_column": 8
        },
        {
         "gene_ID": "ENSG00000187608",
         "control_12": 153,
         "control_26": 1971,
         "control_11": 717,
         "control_14": 390,
         "control_6": 1143,
         "GBM_27": 165,
         "GBM_29": 131,
         "GBM_3": 1217,
         "GBM_8": 1067,
         "GBM_9": 1069,
         "metastasis_21": 29,
         "metastasis_22": 24,
         "metastasis_23": 152,
         "metastasis_28": 92,
         "metastasis_30": 171,
         "control_15": 1799,
         "metastasis_16": 888,
         "_deepnote_index_column": 9
        }
       ]
      },
      "text/plain": "               gene_ID  control_12  control_26  control_11  control_14  \\\n0      ENSG00000186092           0           0           0           0   \n1      ENSG00000278566           0           0           0           0   \n2      ENSG00000273547           0           0           0           0   \n3      ENSG00000187634           4           2          49          19   \n4      ENSG00000188976         584         396         829        1089   \n...                ...         ...         ...         ...         ...   \n21903  ENSG00000277856           0           0           0           0   \n21904  ENSG00000275063           0           0           0           0   \n21905  ENSG00000271254          89         205         353         420   \n21906  ENSG00000277475           0           0           7           0   \n21907  ENSG00000268674           0           0           0           0   \n\n       control_6  GBM_27  GBM_29  GBM_3  GBM_8  GBM_9  metastasis_21  \\\n0              0       0       0      0      0      0              0   \n1              0       0       0      0      0      0              0   \n2              0       0       0      0      0      0              0   \n3              2       6       0     13      2     18              0   \n4            610     730     128   1315   1178   1150              2   \n...          ...     ...     ...    ...    ...    ...            ...   \n21903          0       0       0      0      0      8              0   \n21904          1       0       0      0      0     12              0   \n21905        278     360      14    385     93     77              0   \n21906          0       0       0      0      0      0              0   \n21907          0       0       0      0      0      0              0   \n\n       metastasis_22  metastasis_23  metastasis_28  metastasis_30  control_15  \\\n0                  0              0              0              0           0   \n1                  0              0              0              0           0   \n2                  0              0              0              0           0   \n3                  0              0              4             26         189   \n4                 66             47            450            507        1243   \n...              ...            ...            ...            ...         ...   \n21903              0              0              0              4          16   \n21904              0              0              0              4         131   \n21905             39             10             56             92         406   \n21906             12              0              0              0           0   \n21907              2              0              0              0           0   \n\n       metastasis_16  \n0                  0  \n1                  0  \n2                  0  \n3                  0  \n4               1037  \n...              ...  \n21903              0  \n21904              0  \n21905             41  \n21906              0  \n21907              0  \n\n[21908 rows x 18 columns]",
      "text/html": "<div>\n<style scoped>\n    .dataframe tbody tr th:only-of-type {\n        vertical-align: middle;\n    }\n\n    .dataframe tbody tr th {\n        vertical-align: top;\n    }\n\n    .dataframe thead th {\n        text-align: right;\n    }\n</style>\n<table border=\"1\" class=\"dataframe\">\n  <thead>\n    <tr style=\"text-align: right;\">\n      <th></th>\n      <th>gene_ID</th>\n      <th>control_12</th>\n      <th>control_26</th>\n      <th>control_11</th>\n      <th>control_14</th>\n      <th>control_6</th>\n      <th>GBM_27</th>\n      <th>GBM_29</th>\n      <th>GBM_3</th>\n      <th>GBM_8</th>\n      <th>GBM_9</th>\n      <th>metastasis_21</th>\n      <th>metastasis_22</th>\n      <th>metastasis_23</th>\n      <th>metastasis_28</th>\n      <th>metastasis_30</th>\n      <th>control_15</th>\n      <th>metastasis_16</th>\n    </tr>\n  </thead>\n  <tbody>\n    <tr>\n      <th>0</th>\n      <td>ENSG00000186092</td>\n      <td>0</td>\n      <td>0</td>\n      <td>0</td>\n      <td>0</td>\n      <td>0</td>\n      <td>0</td>\n      <td>0</td>\n      <td>0</td>\n      <td>0</td>\n      <td>0</td>\n      <td>0</td>\n      <td>0</td>\n      <td>0</td>\n      <td>0</td>\n      <td>0</td>\n      <td>0</td>\n      <td>0</td>\n    </tr>\n    <tr>\n      <th>1</th>\n      <td>ENSG00000278566</td>\n      <td>0</td>\n      <td>0</td>\n      <td>0</td>\n      <td>0</td>\n      <td>0</td>\n      <td>0</td>\n      <td>0</td>\n      <td>0</td>\n      <td>0</td>\n      <td>0</td>\n      <td>0</td>\n      <td>0</td>\n      <td>0</td>\n      <td>0</td>\n      <td>0</td>\n      <td>0</td>\n      <td>0</td>\n    </tr>\n    <tr>\n      <th>2</th>\n      <td>ENSG00000273547</td>\n      <td>0</td>\n      <td>0</td>\n      <td>0</td>\n      <td>0</td>\n      <td>0</td>\n      <td>0</td>\n      <td>0</td>\n      <td>0</td>\n      <td>0</td>\n      <td>0</td>\n      <td>0</td>\n      <td>0</td>\n      <td>0</td>\n      <td>0</td>\n      <td>0</td>\n      <td>0</td>\n      <td>0</td>\n    </tr>\n    <tr>\n      <th>3</th>\n      <td>ENSG00000187634</td>\n      <td>4</td>\n      <td>2</td>\n      <td>49</td>\n      <td>19</td>\n      <td>2</td>\n      <td>6</td>\n      <td>0</td>\n      <td>13</td>\n      <td>2</td>\n      <td>18</td>\n      <td>0</td>\n      <td>0</td>\n      <td>0</td>\n      <td>4</td>\n      <td>26</td>\n      <td>189</td>\n      <td>0</td>\n    </tr>\n    <tr>\n      <th>4</th>\n      <td>ENSG00000188976</td>\n      <td>584</td>\n      <td>396</td>\n      <td>829</td>\n      <td>1089</td>\n      <td>610</td>\n      <td>730</td>\n      <td>128</td>\n      <td>1315</td>\n      <td>1178</td>\n      <td>1150</td>\n      <td>2</td>\n      <td>66</td>\n      <td>47</td>\n      <td>450</td>\n      <td>507</td>\n      <td>1243</td>\n      <td>1037</td>\n    </tr>\n    <tr>\n      <th>...</th>\n      <td>...</td>\n      <td>...</td>\n      <td>...</td>\n      <td>...</td>\n      <td>...</td>\n      <td>...</td>\n      <td>...</td>\n      <td>...</td>\n      <td>...</td>\n      <td>...</td>\n      <td>...</td>\n      <td>...</td>\n      <td>...</td>\n      <td>...</td>\n      <td>...</td>\n      <td>...</td>\n      <td>...</td>\n      <td>...</td>\n    </tr>\n    <tr>\n      <th>21903</th>\n      <td>ENSG00000277856</td>\n      <td>0</td>\n      <td>0</td>\n      <td>0</td>\n      <td>0</td>\n      <td>0</td>\n      <td>0</td>\n      <td>0</td>\n      <td>0</td>\n      <td>0</td>\n      <td>8</td>\n      <td>0</td>\n      <td>0</td>\n      <td>0</td>\n      <td>0</td>\n      <td>4</td>\n      <td>16</td>\n      <td>0</td>\n    </tr>\n    <tr>\n      <th>21904</th>\n      <td>ENSG00000275063</td>\n      <td>0</td>\n      <td>0</td>\n      <td>0</td>\n      <td>0</td>\n      <td>1</td>\n      <td>0</td>\n      <td>0</td>\n      <td>0</td>\n      <td>0</td>\n      <td>12</td>\n      <td>0</td>\n      <td>0</td>\n      <td>0</td>\n      <td>0</td>\n      <td>4</td>\n      <td>131</td>\n      <td>0</td>\n    </tr>\n    <tr>\n      <th>21905</th>\n      <td>ENSG00000271254</td>\n      <td>89</td>\n      <td>205</td>\n      <td>353</td>\n      <td>420</td>\n      <td>278</td>\n      <td>360</td>\n      <td>14</td>\n      <td>385</td>\n      <td>93</td>\n      <td>77</td>\n      <td>0</td>\n      <td>39</td>\n      <td>10</td>\n      <td>56</td>\n      <td>92</td>\n      <td>406</td>\n      <td>41</td>\n    </tr>\n    <tr>\n      <th>21906</th>\n      <td>ENSG00000277475</td>\n      <td>0</td>\n      <td>0</td>\n      <td>7</td>\n      <td>0</td>\n      <td>0</td>\n      <td>0</td>\n      <td>0</td>\n      <td>0</td>\n      <td>0</td>\n      <td>0</td>\n      <td>0</td>\n      <td>12</td>\n      <td>0</td>\n      <td>0</td>\n      <td>0</td>\n      <td>0</td>\n      <td>0</td>\n    </tr>\n    <tr>\n      <th>21907</th>\n      <td>ENSG00000268674</td>\n      <td>0</td>\n      <td>0</td>\n      <td>0</td>\n      <td>0</td>\n      <td>0</td>\n      <td>0</td>\n      <td>0</td>\n      <td>0</td>\n      <td>0</td>\n      <td>0</td>\n      <td>0</td>\n      <td>2</td>\n      <td>0</td>\n      <td>0</td>\n      <td>0</td>\n      <td>0</td>\n      <td>0</td>\n    </tr>\n  </tbody>\n</table>\n<p>21908 rows × 18 columns</p>\n</div>"
     },
     "metadata": {}
    }
   ],
   "execution_count": null
  },
  {
   "cell_type": "code",
   "metadata": {
    "cell_id": "d0d820fbef5e4563b78ede05da903a0b",
    "tags": [],
    "deepnote_to_be_reexecuted": false,
    "source_hash": "16798581",
    "execution_start": 1652109547030,
    "execution_millis": 18,
    "deepnote_cell_type": "code",
    "deepnote_cell_height": 586.25
   },
   "source": "#data loading\n\nRNA_flip = np.rot90(RNA_set)\nprint(np.shape(RNA_flip))\nprint(type(RNA_flip))\nRNA_flip\n\nX = RNA_flip[:17,:]\nprint(np.shape(X))\nprint(X)\n\n# 1 = control, 2 = gbm, 3 = metastasis\nY = [3,1,3,3,3,3,3,2,2,2,2,2,1,1,1,1,1]\nprint(np.shape(Y))\nprint(Y)",
   "outputs": [
    {
     "name": "stdout",
     "text": "(18, 21908)\n<class 'numpy.ndarray'>\n(17, 21908)\n[[0 0 0 ... 41 0 0]\n [0 0 0 ... 406 0 0]\n [0 0 0 ... 92 0 0]\n ...\n [0 0 0 ... 353 7 0]\n [0 0 0 ... 205 0 0]\n [0 0 0 ... 89 0 0]]\n(17,)\n[3, 1, 3, 3, 3, 3, 3, 2, 2, 2, 2, 2, 1, 1, 1, 1, 1]\n",
     "output_type": "stream"
    }
   ],
   "execution_count": null
  },
  {
   "cell_type": "code",
   "metadata": {
    "cell_id": "fc25421a51df4f11a931cda477c67f17",
    "tags": [],
    "deepnote_to_be_reexecuted": false,
    "source_hash": "a57dfefd",
    "execution_start": 1652109547052,
    "execution_millis": 106,
    "owner_user_id": "e9a967b2-0782-49ad-aca1-f94ce413b125",
    "deepnote_cell_type": "code",
    "deepnote_cell_height": 456.375
   },
   "source": "#preprocessing\nfrom sklearn.preprocessing import StandardScaler\nfrom sklearn.decomposition import PCA\nfrom sklearn.preprocessing import MinMaxScaler\n\n\n#plt.hist(X,bins=25)\n#plt.show()\n\n#x_log = np.log(X)\n#plt.hist(x_log)\n#plt.show()\nscaler = MinMaxScaler()\nx_standard = scaler.fit_transform(X)\n\npca = PCA(n_components=4)\nx_scaled = pca.fit_transform(X)\nprint(np.shape(x_scaled))\nprint(pca.explained_variance_ratio_)",
   "outputs": [
    {
     "name": "stdout",
     "text": "(17, 4)\n[0.70855413 0.14833145 0.05678859 0.03964501]\n",
     "output_type": "stream"
    }
   ],
   "execution_count": null
  },
  {
   "cell_type": "code",
   "metadata": {
    "cell_id": "9aa5d627344842fcb6666f992a55f5c2",
    "tags": [],
    "deepnote_to_be_reexecuted": false,
    "source_hash": "427f0eca",
    "execution_start": 1652109547169,
    "execution_millis": 3062,
    "deepnote_cell_type": "code",
    "deepnote_cell_height": 1110.1875,
    "deepnote_output_heights": [
     null,
     265
    ]
   },
   "source": "#knn\n\nX_train, X_test, y_train, y_test = train_test_split(x_scaled, Y,train_size=0.6, random_state = 42, stratify = Y)\n# print(X_train)\n# print(y_train)\n# print(np.shape(X_train))\n# print(np.shape(y_train))\n#\ntraining_accuracy = []\ntest_accuracy = []\nbesthyperparameterscore = 0\nbesthyperparameter = 0\n# try n_neighbors from 1 to 10\nneighbors_settings = range(1, 11)\n\nfor n_neighbors in neighbors_settings:\n    # build the model\n    clf = KNeighborsClassifier(n_neighbors=n_neighbors)\n    clf.fit(X_train, y_train)\n    scores = cross_val_score(clf, X, Y, cv=5)\n    # record training set accuracy\n    training_accuracy.append(scores.mean())\n    # record generalization accuracy\n    test_accuracy.append(clf.score(X_test, y_test))\n    \n    if scores.mean() > besthyperparameterscore:\n        besthyperparameterscore = scores.mean()\n        besthyperparameter = n_neighbors\n        testscore_kn = clf.score(X_test, y_test)\n\nprint(\"the best performing hyperparameter is {} \".format(besthyperparameter)+ \"and its score on the test data is: {:.4f}\".format(testscore_kn))\n\nplt.plot(neighbors_settings, training_accuracy, label=\"training accuracy\")\nplt.plot(neighbors_settings, test_accuracy, label=\"test accuracy\")\nplt.ylabel(\"Accuracy\")\nplt.xlabel(\"n_neighbors\")\nplt.legend()\nplt.show()\n\n",
   "outputs": [
    {
     "name": "stdout",
     "text": "the best performing hyperparameter is 3 and its score on the test data is: 0.7143\n",
     "output_type": "stream"
    },
    {
     "data": {
      "text/plain": "<Figure size 432x288 with 1 Axes>",
      "image/png": "[encoded data removed]"
     },
     "metadata": {
      "needs_background": "light",
      "image/png": {
       "width": 386,
       "height": 263
      }
     },
     "output_type": "display_data"
    }
   ],
   "execution_count": null
  },
  {
   "cell_type": "code",
   "metadata": {
    "cell_id": "9fbdbdd4db9e4ba6a9fab4019dec00f2",
    "tags": [],
    "deepnote_to_be_reexecuted": false,
    "source_hash": "b120a7a5",
    "execution_start": 1652109550233,
    "execution_millis": 238307,
    "owner_user_id": "5799ba26-4f7f-482d-b579-6c05b959e42b",
    "deepnote_cell_type": "code",
    "deepnote_cell_height": 1716,
    "deepnote_output_heights": [
     null,
     264
    ]
   },
   "source": "#logistic regression\nfrom sklearn.model_selection import cross_val_score\nfrom sklearn.linear_model import LogisticRegression\nfrom sklearn.model_selection import ShuffleSplit\nfrom sklearn.model_selection import LeaveOneOut\nshuffle_split = ShuffleSplit(test_size=.5, train_size=.5, n_splits=10)\nX_train, X_test, y_train, y_test = train_test_split(x_scaled, Y,train_size=0.6, random_state = 42, stratify = Y)\n\nbestmean = 0\nbestc = 0\ntraining_accuracy = []\ntest_accuracy = []\nCrange =  [0.001,0.01,0.1,1,10,100]\n\n\n\nfor C in Crange:\n    logreg = LogisticRegression(max_iter=10000, penalty = \"l2\",multi_class = 'ovr',solver = 'lbfgs', C = C).fit(X_train, y_train)\n    print(\"Cross-validation scores with C= {} :\\n{}\".format(C,cross_val_score(logreg, X_train, y_train, cv=LeaveOneOut())))\n    mean = cross_val_score(logreg, X, Y, cv=LeaveOneOut()).mean()\n    print(\"mean score: {}\".format(mean))\n    print(logreg.score(X_test, y_test))\n    \n    # record training set accuracy\n    training_accuracy.append(mean)\n    # record generalization accuracy\n    test_accuracy.append(logreg.score(X_test, y_test))\n\n    if mean > bestmean:\n        bestmean = mean\n        bestc = C\n    \n\nprint(\"the best performing C is {} \".format(bestc)+ \"and its mean is: {:.4f}\".format(bestmean))\n\nplt.plot(Crange, training_accuracy, label=\"training accuracy\")\nplt.plot(Crange, test_accuracy, label=\"test accuracy\")\nplt.ylabel(\"Accuracy\")\nplt.xlabel(\"c-value\")\nplt.legend()\nplt.show()",
   "outputs": [
    {
     "name": "stdout",
     "text": "Cross-validation scores with C= 0.001 :\n[0. 1. 0. 0. 0. 0. 1. 0. 0. 1.]\nmean score: 0.6470588235294118\n0.2857142857142857\n[0. 0. 0. 1. 1. 1. 1. 0. 1. 1. 0. 1. 1. 1. 1. 1. 0.]\nCross-validation scores with C= 0.01 :\n[0. 1. 0. 0. 0. 0. 1. 0. 0. 1.]\nmean score: 0.6470588235294118\n0.2857142857142857\n[0. 0. 0. 1. 1. 1. 1. 0. 1. 1. 0. 1. 1. 1. 1. 1. 0.]\nCross-validation scores with C= 0.1 :\n[0. 1. 0. 0. 1. 0. 1. 0. 0. 1.]\nmean score: 0.6470588235294118\n0.42857142857142855\n[0. 0. 0. 1. 1. 1. 1. 0. 1. 1. 0. 1. 1. 1. 1. 1. 0.]\nCross-validation scores with C= 1 :\n[0. 1. 0. 0. 1. 0. 0. 0. 0. 1.]\nmean score: 0.7058823529411765\n0.42857142857142855\n[0. 0. 0. 1. 1. 1. 1. 1. 1. 1. 0. 1. 1. 1. 1. 1. 0.]\nCross-validation scores with C= 10 :\n[0. 1. 0. 0. 1. 0. 0. 0. 0. 0.]\nmean score: 0.7058823529411765\n0.42857142857142855\n[0. 0. 0. 1. 1. 1. 1. 1. 1. 1. 0. 1. 1. 1. 1. 1. 0.]\nCross-validation scores with C= 100 :\n[0. 1. 0. 0. 1. 0. 0. 0. 0. 0.]\nmean score: 0.6470588235294118\n0.42857142857142855\n[0. 0. 0. 1. 1. 1. 1. 1. 1. 1. 0. 0. 1. 1. 1. 1. 0.]\nthe best performing C is 1 and its mean is: 0.7059\n",
     "output_type": "stream"
    },
    {
     "data": {
      "text/plain": "<Figure size 432x288 with 1 Axes>",
      "image/png": "[encoded data removed]"
     },
     "metadata": {
      "needs_background": "light",
      "image/png": {
       "width": 386,
       "height": 262
      }
     },
     "output_type": "display_data"
    }
   ],
   "execution_count": null
  },
  {
   "cell_type": "code",
   "metadata": {
    "cell_id": "848077348d8a4809b4312b14f85acb8c",
    "tags": [],
    "deepnote_to_be_reexecuted": false,
    "source_hash": "b179b96c",
    "execution_start": 1652109788292,
    "execution_millis": 20239,
    "deepnote_cell_type": "code",
    "deepnote_cell_height": 440.5625
   },
   "source": "from sklearn.model_selection import cross_val_score\nfrom sklearn.linear_model import LogisticRegression\nfrom sklearn.model_selection import LeaveOneOut\n\n\nlogreg = LogisticRegression(max_iter=10000)\n\nloo = LeaveOneOut()\nscores = cross_val_score(logreg, X, Y, cv=loo)\nprint(\"Cross-validation scores: {}\".format(scores))\n# A common way to summarize the cross-validation accuracy is to compute the mean:\nprint(\"Average cross-validation score: \".format(scores.mean()))\nprint(\"Number of cv iterations: \", len(scores))\n\n\n\n",
   "outputs": [
    {
     "name": "stdout",
     "text": "Cross-validation scores: [0. 0. 0. 1. 1. 1. 1. 1. 1. 1. 0. 1. 1. 1. 1. 1. 0.]\nAverage cross-validation score: \nNumber of cv iterations:  17\n",
     "output_type": "stream"
    }
   ],
   "execution_count": null
  },
  {
   "cell_type": "code",
   "metadata": {
    "cell_id": "85362010e7934639975e2114c1a58af9",
    "tags": [],
    "deepnote_to_be_reexecuted": false,
    "source_hash": "b136feb",
    "execution_start": 1652109808558,
    "execution_millis": 31,
    "deepnote_cell_type": "code",
    "deepnote_cell_height": 112.1875
   },
   "source": "print(scores.mean())",
   "outputs": [
    {
     "name": "stdout",
     "text": "0.7058823529411765\n",
     "output_type": "stream"
    }
   ],
   "execution_count": null
  },
  {
   "cell_type": "markdown",
   "source": "<a style='text-decoration:none;line-height:16px;display:flex;color:#5B5B62;padding:10px;justify-content:end;' href='https://deepnote.com?utm_source=created-in-deepnote-cell&projectId=8759e4b9-d387-4a12-8b2e-1c1ffd10dfee' target=\"_blank\">\n<img alt='Created in deepnote.com' style='display:inline;max-height:16px;margin:0px;margin-right:7.5px;' src='data:image/svg+xml;base64,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' > </img>\nCreated in <span style='font-weight:600;margin-left:4px;'>Deepnote</span></a>",
   "metadata": {
    "tags": [],
    "created_in_deepnote_cell": true,
    "deepnote_cell_type": "markdown"
   }
  }
 ],
 "nbformat": 4,
 "nbformat_minor": 2,
 "metadata": {
  "orig_nbformat": 2,
  "deepnote": {},
  "deepnote_notebook_id": "6a760427-b85b-4b4d-8955-5d5d8aa76fc0",
  "deepnote_execution_queue": []
 }
}